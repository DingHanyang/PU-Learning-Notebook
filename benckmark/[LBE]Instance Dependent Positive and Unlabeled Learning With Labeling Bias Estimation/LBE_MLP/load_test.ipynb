{
 "cells": [
  {
   "cell_type": "code",
   "execution_count": 43,
   "id": "97155842-4150-4241-933f-3299c7efb2c0",
   "metadata": {},
   "outputs": [],
   "source": [
    "import scipy.io as scio\n",
    "import torch as t\n",
    "def reader_breast():\n",
    "    data = scio.loadmat('datasets/breast.mat')['breast'].toarray()\n",
    "    features, targets = t.Tensor(data[:, :-1]), t.Tensor(data[:, -1])\n",
    "    targets = t.where(targets != 1, t.zeros_like(targets), targets)\n",
    "    return features, targets"
   ]
  },
  {
   "cell_type": "code",
   "execution_count": 44,
   "id": "507cb136-4b19-473a-bcde-f77a0a18abe8",
   "metadata": {},
   "outputs": [
    {
     "data": {
      "text/plain": [
       "(tensor([[-0.8576,  0.5556,  1.0000,  ...,  0.7778,  0.3333, -1.0000],\n",
       "         [-0.8539, -0.1111, -0.5556,  ..., -0.3333, -0.3333, -1.0000],\n",
       "         [-0.8535,  0.5556,  0.3333,  ..., -0.1111, -0.1111, -0.3333],\n",
       "         ...,\n",
       "         [-0.8955, -0.5556, -1.0000,  ..., -0.7778, -1.0000, -0.7778],\n",
       "         [-0.8935, -0.5556, -1.0000,  ..., -1.0000, -1.0000, -1.0000],\n",
       "         [-0.8837, -0.7778, -1.0000,  ..., -1.0000, -1.0000, -1.0000]]),\n",
       " tensor([1., 1., 1., 1., 1., 1., 1., 1., 1., 1., 1., 1., 1., 1., 1., 1., 1., 1.,\n",
       "         1., 1., 1., 1., 1., 1., 1., 1., 1., 1., 1., 1., 1., 1., 1., 1., 1., 1.,\n",
       "         1., 1., 1., 1., 1., 1., 1., 1., 1., 1., 1., 1., 1., 1., 1., 1., 1., 1.,\n",
       "         1., 1., 1., 1., 1., 1., 1., 1., 1., 1., 1., 1., 1., 1., 1., 1., 1., 1.,\n",
       "         1., 1., 1., 1., 1., 1., 1., 1., 1., 1., 1., 1., 1., 1., 1., 1., 1., 1.,\n",
       "         1., 1., 1., 1., 1., 1., 1., 1., 1., 1., 1., 1., 1., 1., 1., 1., 1., 1.,\n",
       "         1., 1., 1., 1., 1., 1., 1., 1., 1., 1., 1., 1., 1., 1., 1., 1., 1., 1.,\n",
       "         1., 1., 1., 1., 1., 1., 1., 1., 1., 1., 1., 1., 1., 1., 1., 1., 1., 1.,\n",
       "         1., 1., 1., 1., 1., 1., 1., 1., 1., 1., 1., 1., 1., 1., 1., 1., 1., 1.,\n",
       "         1., 1., 1., 1., 1., 1., 1., 1., 1., 1., 1., 1., 1., 1., 1., 1., 1., 1.,\n",
       "         1., 1., 1., 1., 1., 1., 1., 1., 1., 1., 1., 1., 1., 1., 1., 1., 1., 1.,\n",
       "         1., 1., 1., 1., 1., 1., 1., 1., 1., 1., 1., 1., 1., 1., 1., 1., 1., 1.,\n",
       "         1., 1., 1., 1., 1., 1., 1., 1., 1., 1., 1., 1., 1., 1., 1., 1., 1., 1.,\n",
       "         1., 1., 1., 1., 1., 0., 0., 0., 0., 0., 0., 0., 0., 0., 0., 0., 0., 0.,\n",
       "         0., 0., 0., 0., 0., 0., 0., 0., 0., 0., 0., 0., 0., 0., 0., 0., 0., 0.,\n",
       "         0., 0., 0., 0., 0., 0., 0., 0., 0., 0., 0., 0., 0., 0., 0., 0., 0., 0.,\n",
       "         0., 0., 0., 0., 0., 0., 0., 0., 0., 0., 0., 0., 0., 0., 0., 0., 0., 0.,\n",
       "         0., 0., 0., 0., 0., 0., 0., 0., 0., 0., 0., 0., 0., 0., 0., 0., 0., 0.,\n",
       "         0., 0., 0., 0., 0., 0., 0., 0., 0., 0., 0., 0., 0., 0., 0., 0., 0., 0.,\n",
       "         0., 0., 0., 0., 0., 0., 0., 0., 0., 0., 0., 0., 0., 0., 0., 0., 0., 0.,\n",
       "         0., 0., 0., 0., 0., 0., 0., 0., 0., 0., 0., 0., 0., 0., 0., 0., 0., 0.,\n",
       "         0., 0., 0., 0., 0., 0., 0., 0., 0., 0., 0., 0., 0., 0., 0., 0., 0., 0.,\n",
       "         0., 0., 0., 0., 0., 0., 0., 0., 0., 0., 0., 0., 0., 0., 0., 0., 0., 0.,\n",
       "         0., 0., 0., 0., 0., 0., 0., 0., 0., 0., 0., 0., 0., 0., 0., 0., 0., 0.,\n",
       "         0., 0., 0., 0., 0., 0., 0., 0., 0., 0., 0., 0., 0., 0., 0., 0., 0., 0.,\n",
       "         0., 0., 0., 0., 0., 0., 0., 0., 0., 0., 0., 0., 0., 0., 0., 0., 0., 0.,\n",
       "         0., 0., 0., 0., 0., 0., 0., 0., 0., 0., 0., 0., 0., 0., 0., 0., 0., 0.,\n",
       "         0., 0., 0., 0., 0., 0., 0., 0., 0., 0., 0., 0., 0., 0., 0., 0., 0., 0.,\n",
       "         0., 0., 0., 0., 0., 0., 0., 0., 0., 0., 0., 0., 0., 0., 0., 0., 0., 0.,\n",
       "         0., 0., 0., 0., 0., 0., 0., 0., 0., 0., 0., 0., 0., 0., 0., 0., 0., 0.,\n",
       "         0., 0., 0., 0., 0., 0., 0., 0., 0., 0., 0., 0., 0., 0., 0., 0., 0., 0.,\n",
       "         0., 0., 0., 0., 0., 0., 0., 0., 0., 0., 0., 0., 0., 0., 0., 0., 0., 0.,\n",
       "         0., 0., 0., 0., 0., 0., 0., 0., 0., 0., 0., 0., 0., 0., 0., 0., 0., 0.,\n",
       "         0., 0., 0., 0., 0., 0., 0., 0., 0., 0., 0., 0., 0., 0., 0., 0., 0., 0.,\n",
       "         0., 0., 0., 0., 0., 0., 0., 0., 0., 0., 0., 0., 0., 0., 0., 0., 0., 0.,\n",
       "         0., 0., 0., 0., 0., 0., 0., 0., 0., 0., 0., 0., 0., 0., 0., 0., 0., 0.,\n",
       "         0., 0., 0., 0., 0., 0., 0., 0., 0., 0., 0., 0., 0., 0., 0., 0., 0., 0.,\n",
       "         0., 0., 0., 0., 0., 0., 0., 0., 0., 0., 0., 0., 0., 0., 0., 0., 0.]))"
      ]
     },
     "execution_count": 44,
     "metadata": {},
     "output_type": "execute_result"
    }
   ],
   "source": [
    "reader_breast()"
   ]
  },
  {
   "cell_type": "code",
   "execution_count": 79,
   "id": "87df8680-313f-4405-b990-90433f3c4eb1",
   "metadata": {},
   "outputs": [],
   "source": [
    "def reader_australian():\n",
    "    data = scio.loadmat('datasets/Australian.mat')\n",
    "    features, targets = data['fea'], data['gnd']\n",
    "    features, targets = t.Tensor(features.toarray()), t.Tensor(targets).squeeze()\n",
    "    targets = t.where(targets != 1, t.zeros_like(targets), targets)\n",
    "    return features, targets"
   ]
  },
  {
   "cell_type": "code",
   "execution_count": null,
   "id": "26024721-2058-4543-b86c-a7a3053ee626",
   "metadata": {},
   "outputs": [],
   "source": []
  },
  {
   "cell_type": "code",
   "execution_count": null,
   "id": "87790d74-6ead-4303-a4b1-23c3712b9f56",
   "metadata": {},
   "outputs": [],
   "source": []
  },
  {
   "cell_type": "code",
   "execution_count": 106,
   "id": "03deb6d7-c279-4cba-9198-2e896fca2b42",
   "metadata": {},
   "outputs": [],
   "source": [
    "import os\n",
    "import ssl\n",
    "import torch\n",
    "import pandas as pd\n",
    "import urllib.request\n",
    "from ucimlrepo import fetch_ucirepo\n",
    "os.environ['http_proxy'] = '127.0.0.1:1066'\n",
    "os.environ['https_proxy'] = '127.0.0.1:1066'\n",
    "\n",
    "ssl._create_default_https_context = ssl._create_unverified_context\n",
    "\n",
    "def _preprocess_data(uci_id):\n",
    "        # fetch dataset\n",
    "        dataset = fetch_ucirepo(id=uci_id)\n",
    "        \n",
    "        # data (as pandas dataframes)\n",
    "        X = dataset.data.features\n",
    "        y = dataset.data.targets\n",
    "        \n",
    "        # 检测并删除缺失值\n",
    "        combined = pd.concat([X, y], axis=1)\n",
    "        combined_cleaned = combined.dropna()\n",
    "\n",
    "        # 分离 features 和 targets\n",
    "        X_cleaned = combined_cleaned.iloc[:, :-1]\n",
    "        y_cleaned = combined_cleaned.iloc[:, -1]\n",
    "\n",
    "        # 转换为 PyTorch 张量\n",
    "        features = torch.Tensor(X_cleaned.to_numpy())\n",
    "        targets = torch.Tensor(y_cleaned.to_numpy()).flatten()\n",
    "\n",
    "        return features, targets\n",
    "\n",
    "def get_uci_dataset_by_id(uci_id):\n",
    "\n",
    "    match int(uci_id):\n",
    "        case 15:\n",
    "            # Breast\n",
    "            features, targets = _preprocess_data(uci_id)\n",
    "            targets = torch.where(targets != 4, torch.tensor(0.), torch.tensor(1.)) # 4为恶性 2为良性 改为1,0\n",
    "            print(f'{features.shape}, p:{torch.sum(targets).item()}, n:{torch.sum(targets != 1).item()}')\n",
    "            return features, targets\n",
    "        case 143:\n",
    "            # Australian\n",
    "            features, targets = _preprocess_data(uci_id)\n",
    "            targets = torch.where(targets != 1, torch.tensor(0.), torch.tensor(1.)) # 1 为正类 2为负 改为1,0\n",
    "            print(f'{features.shape}, p:{torch.sum(targets).item()}, n:{torch.sum(targets != 1).item()}')\n",
    "            return features, targets\n",
    "        case 267:\n",
    "            # banknote\n",
    "            features, targets = _preprocess_data(uci_id)\n",
    "            targets = torch.where(targets != 1, torch.tensor(0.), torch.tensor(1.)) # 1 为正类 2为负 改为1,0\n",
    "            print(f'{features.shape}, p:{torch.sum(targets).item()}, n:{torch.sum(targets != 1).item()}')\n",
    "            return features, targets\n",
    "        case 171:\n",
    "            # Madelon\n",
    "            pass\n",
    "        case 327:\n",
    "            # Phishing\n",
    "            features, targets = _preprocess_data(uci_id)\n",
    "            targets = torch.where(targets != 1, torch.tensor(0.), torch.tensor(1.)) # 1 为正类 2为负 改为1,0\n",
    "            print(f'{features.shape}, p:{torch.sum(targets).item()}, n:{torch.sum(targets != 1).item()}')\n",
    "            return features, targets\n",
    "        case 105:\n",
    "            # Vote\n",
    "            features, targets = _preprocess_data(uci_id)\n",
    "            targets = torch.where(targets != 1, torch.tensor(0.), torch.tensor(1.)) # 1 为正类 2为负 改为1,0\n",
    "            print(f'{features.shape}, p:{torch.sum(targets).item()}, n:{torch.sum(targets != 1).item()}')\n",
    "            return features, targets\n",
    "        case _:\n",
    "            # 所有不需要特殊处理的都可以直接转换\n",
    "            features, targets = _preprocess_data(uci_id)\n",
    "            targets = torch.where(targets != 1, torch.tensor(0.), torch.tensor(1.)) # 改为1,0 \n",
    "            print(f'{features.shape}, p:{torch.sum(targets).item()}, n:{torch.sum(targets != 1).item()}')\n",
    "            return features, targets\n",
    "            \n",
    "        \n",
    "        \n",
    "            \n"
   ]
  },
  {
   "cell_type": "code",
   "execution_count": 111,
   "id": "41580db2-7bc9-41df-857d-9d01e5ce2a0e",
   "metadata": {},
   "outputs": [
    {
     "name": "stdout",
     "output_type": "stream",
     "text": [
      "torch.Size([683, 9]), p:239.0, n:444\n"
     ]
    }
   ],
   "source": [
    "features,targets = get_uci_dataset_by_id(15)"
   ]
  },
  {
   "cell_type": "code",
   "execution_count": 112,
   "id": "20c1abf8-e0d2-480d-abad-316af1370a2d",
   "metadata": {},
   "outputs": [
    {
     "data": {
      "text/plain": [
       "tensor([[ 5.,  1.,  1.,  ...,  3.,  1.,  1.],\n",
       "        [ 5.,  4.,  4.,  ...,  3.,  2.,  1.],\n",
       "        [ 3.,  1.,  1.,  ...,  3.,  1.,  1.],\n",
       "        ...,\n",
       "        [ 5., 10., 10.,  ...,  8., 10.,  2.],\n",
       "        [ 4.,  8.,  6.,  ..., 10.,  6.,  1.],\n",
       "        [ 4.,  8.,  8.,  ..., 10.,  4.,  1.]])"
      ]
     },
     "execution_count": 112,
     "metadata": {},
     "output_type": "execute_result"
    }
   ],
   "source": [
    "features"
   ]
  },
  {
   "cell_type": "code",
   "execution_count": 110,
   "id": "90497582-9ddf-4d7d-8f4d-90e90eee6aac",
   "metadata": {},
   "outputs": [
    {
     "data": {
      "text/plain": [
       "tensor([0., 0., 0.,  ..., 0., 0., 0.])"
      ]
     },
     "execution_count": 110,
     "metadata": {},
     "output_type": "execute_result"
    }
   ],
   "source": [
    "targets"
   ]
  },
  {
   "cell_type": "code",
   "execution_count": null,
   "id": "47b69baf-78cb-47d1-a01c-cac824406dbe",
   "metadata": {},
   "outputs": [],
   "source": []
  }
 ],
 "metadata": {
  "kernelspec": {
   "display_name": "Python 3 (ipykernel)",
   "language": "python",
   "name": "python3"
  },
  "language_info": {
   "codemirror_mode": {
    "name": "ipython",
    "version": 3
   },
   "file_extension": ".py",
   "mimetype": "text/x-python",
   "name": "python",
   "nbconvert_exporter": "python",
   "pygments_lexer": "ipython3",
   "version": "3.10.5"
  }
 },
 "nbformat": 4,
 "nbformat_minor": 5
}
